{
  "cells": [
    {
      "cell_type": "markdown",
      "source": [
        "## **Import Libaraies**"
      ],
      "metadata": {
        "id": "s6A6LmmMwpM9"
      }
    },
    {
      "cell_type": "code",
      "execution_count": null,
      "metadata": {
        "id": "8oC239Iq3R4b"
      },
      "outputs": [],
      "source": [
        "import pandas as pd # For data manipulation\n",
        "import numpy as np # For basic data analysis\n",
        "import matplotlib.pyplot as plt # For basic data visualization\n",
        "import seaborn as sns # For more advanced visualizations\n",
        "%matplotlib inline"
      ]
    },
    {
      "cell_type": "markdown",
      "source": [
        "## **Load dataset**"
      ],
      "metadata": {
        "id": "GLXNXdmOwzZA"
      }
    },
    {
      "cell_type": "code",
      "execution_count": null,
      "metadata": {
        "colab": {
          "base_uri": "https://localhost:8080/",
          "height": 487
        },
        "id": "nrH1wvep3cJW",
        "outputId": "3d46b665-0d5b-41a5-8554-0df2531e5cd3"
      },
      "outputs": [
        {
          "output_type": "execute_result",
          "data": {
            "text/plain": [
              "         step      type      amount     nameOrig  oldbalanceOrg  \\\n",
              "0           1   PAYMENT     9839.64  C1231006815      170136.00   \n",
              "1           1   PAYMENT     1864.28  C1666544295       21249.00   \n",
              "2           1  TRANSFER      181.00  C1305486145         181.00   \n",
              "3           1  CASH_OUT      181.00   C840083671         181.00   \n",
              "4           1   PAYMENT    11668.14  C2048537720       41554.00   \n",
              "...       ...       ...         ...          ...            ...   \n",
              "5341234   374   CASH_IN   347534.70  C1540151339       34461.00   \n",
              "5341235   374  CASH_OUT   153325.77   C673784376       11501.00   \n",
              "5341236   374  CASH_OUT   356624.10   C287959487       24978.00   \n",
              "5341237   374  TRANSFER  1007995.22  C1247132090       70173.00   \n",
              "5341238   374  TRANSFER   351307.10  C2003119451      205347.38   \n",
              "\n",
              "         newbalanceOrig     nameDest  oldbalanceDest  newbalanceDest  isFraud  \\\n",
              "0             160296.36  M1979787155            0.00            0.00      0.0   \n",
              "1              19384.72  M2044282225            0.00            0.00      0.0   \n",
              "2                  0.00   C553264065            0.00            0.00      1.0   \n",
              "3                  0.00    C38997010        21182.00            0.00      1.0   \n",
              "4              29885.86  M1230701703            0.00            0.00      0.0   \n",
              "...                 ...          ...             ...             ...      ...   \n",
              "5341234       381995.70  C1229201013       285145.44            0.00      0.0   \n",
              "5341235            0.00   C931080505        78661.36       231987.13      0.0   \n",
              "5341236            0.00    C44274353      4756039.45      5112663.55      0.0   \n",
              "5341237            0.00  C2056015998       540347.09      1548342.32      0.0   \n",
              "5341238            0.00   C160048212             NaN             NaN      NaN   \n",
              "\n",
              "         isFlaggedFraud  \n",
              "0                   0.0  \n",
              "1                   0.0  \n",
              "2                   0.0  \n",
              "3                   0.0  \n",
              "4                   0.0  \n",
              "...                 ...  \n",
              "5341234             0.0  \n",
              "5341235             0.0  \n",
              "5341236             0.0  \n",
              "5341237             0.0  \n",
              "5341238             NaN  \n",
              "\n",
              "[5341239 rows x 11 columns]"
            ],
            "text/html": [
              "\n",
              "  <div id=\"df-bf214ddd-bb08-4161-9341-6e1aaec92edc\">\n",
              "    <div class=\"colab-df-container\">\n",
              "      <div>\n",
              "<style scoped>\n",
              "    .dataframe tbody tr th:only-of-type {\n",
              "        vertical-align: middle;\n",
              "    }\n",
              "\n",
              "    .dataframe tbody tr th {\n",
              "        vertical-align: top;\n",
              "    }\n",
              "\n",
              "    .dataframe thead th {\n",
              "        text-align: right;\n",
              "    }\n",
              "</style>\n",
              "<table border=\"1\" class=\"dataframe\">\n",
              "  <thead>\n",
              "    <tr style=\"text-align: right;\">\n",
              "      <th></th>\n",
              "      <th>step</th>\n",
              "      <th>type</th>\n",
              "      <th>amount</th>\n",
              "      <th>nameOrig</th>\n",
              "      <th>oldbalanceOrg</th>\n",
              "      <th>newbalanceOrig</th>\n",
              "      <th>nameDest</th>\n",
              "      <th>oldbalanceDest</th>\n",
              "      <th>newbalanceDest</th>\n",
              "      <th>isFraud</th>\n",
              "      <th>isFlaggedFraud</th>\n",
              "    </tr>\n",
              "  </thead>\n",
              "  <tbody>\n",
              "    <tr>\n",
              "      <th>0</th>\n",
              "      <td>1</td>\n",
              "      <td>PAYMENT</td>\n",
              "      <td>9839.64</td>\n",
              "      <td>C1231006815</td>\n",
              "      <td>170136.00</td>\n",
              "      <td>160296.36</td>\n",
              "      <td>M1979787155</td>\n",
              "      <td>0.00</td>\n",
              "      <td>0.00</td>\n",
              "      <td>0.0</td>\n",
              "      <td>0.0</td>\n",
              "    </tr>\n",
              "    <tr>\n",
              "      <th>1</th>\n",
              "      <td>1</td>\n",
              "      <td>PAYMENT</td>\n",
              "      <td>1864.28</td>\n",
              "      <td>C1666544295</td>\n",
              "      <td>21249.00</td>\n",
              "      <td>19384.72</td>\n",
              "      <td>M2044282225</td>\n",
              "      <td>0.00</td>\n",
              "      <td>0.00</td>\n",
              "      <td>0.0</td>\n",
              "      <td>0.0</td>\n",
              "    </tr>\n",
              "    <tr>\n",
              "      <th>2</th>\n",
              "      <td>1</td>\n",
              "      <td>TRANSFER</td>\n",
              "      <td>181.00</td>\n",
              "      <td>C1305486145</td>\n",
              "      <td>181.00</td>\n",
              "      <td>0.00</td>\n",
              "      <td>C553264065</td>\n",
              "      <td>0.00</td>\n",
              "      <td>0.00</td>\n",
              "      <td>1.0</td>\n",
              "      <td>0.0</td>\n",
              "    </tr>\n",
              "    <tr>\n",
              "      <th>3</th>\n",
              "      <td>1</td>\n",
              "      <td>CASH_OUT</td>\n",
              "      <td>181.00</td>\n",
              "      <td>C840083671</td>\n",
              "      <td>181.00</td>\n",
              "      <td>0.00</td>\n",
              "      <td>C38997010</td>\n",
              "      <td>21182.00</td>\n",
              "      <td>0.00</td>\n",
              "      <td>1.0</td>\n",
              "      <td>0.0</td>\n",
              "    </tr>\n",
              "    <tr>\n",
              "      <th>4</th>\n",
              "      <td>1</td>\n",
              "      <td>PAYMENT</td>\n",
              "      <td>11668.14</td>\n",
              "      <td>C2048537720</td>\n",
              "      <td>41554.00</td>\n",
              "      <td>29885.86</td>\n",
              "      <td>M1230701703</td>\n",
              "      <td>0.00</td>\n",
              "      <td>0.00</td>\n",
              "      <td>0.0</td>\n",
              "      <td>0.0</td>\n",
              "    </tr>\n",
              "    <tr>\n",
              "      <th>...</th>\n",
              "      <td>...</td>\n",
              "      <td>...</td>\n",
              "      <td>...</td>\n",
              "      <td>...</td>\n",
              "      <td>...</td>\n",
              "      <td>...</td>\n",
              "      <td>...</td>\n",
              "      <td>...</td>\n",
              "      <td>...</td>\n",
              "      <td>...</td>\n",
              "      <td>...</td>\n",
              "    </tr>\n",
              "    <tr>\n",
              "      <th>5341234</th>\n",
              "      <td>374</td>\n",
              "      <td>CASH_IN</td>\n",
              "      <td>347534.70</td>\n",
              "      <td>C1540151339</td>\n",
              "      <td>34461.00</td>\n",
              "      <td>381995.70</td>\n",
              "      <td>C1229201013</td>\n",
              "      <td>285145.44</td>\n",
              "      <td>0.00</td>\n",
              "      <td>0.0</td>\n",
              "      <td>0.0</td>\n",
              "    </tr>\n",
              "    <tr>\n",
              "      <th>5341235</th>\n",
              "      <td>374</td>\n",
              "      <td>CASH_OUT</td>\n",
              "      <td>153325.77</td>\n",
              "      <td>C673784376</td>\n",
              "      <td>11501.00</td>\n",
              "      <td>0.00</td>\n",
              "      <td>C931080505</td>\n",
              "      <td>78661.36</td>\n",
              "      <td>231987.13</td>\n",
              "      <td>0.0</td>\n",
              "      <td>0.0</td>\n",
              "    </tr>\n",
              "    <tr>\n",
              "      <th>5341236</th>\n",
              "      <td>374</td>\n",
              "      <td>CASH_OUT</td>\n",
              "      <td>356624.10</td>\n",
              "      <td>C287959487</td>\n",
              "      <td>24978.00</td>\n",
              "      <td>0.00</td>\n",
              "      <td>C44274353</td>\n",
              "      <td>4756039.45</td>\n",
              "      <td>5112663.55</td>\n",
              "      <td>0.0</td>\n",
              "      <td>0.0</td>\n",
              "    </tr>\n",
              "    <tr>\n",
              "      <th>5341237</th>\n",
              "      <td>374</td>\n",
              "      <td>TRANSFER</td>\n",
              "      <td>1007995.22</td>\n",
              "      <td>C1247132090</td>\n",
              "      <td>70173.00</td>\n",
              "      <td>0.00</td>\n",
              "      <td>C2056015998</td>\n",
              "      <td>540347.09</td>\n",
              "      <td>1548342.32</td>\n",
              "      <td>0.0</td>\n",
              "      <td>0.0</td>\n",
              "    </tr>\n",
              "    <tr>\n",
              "      <th>5341238</th>\n",
              "      <td>374</td>\n",
              "      <td>TRANSFER</td>\n",
              "      <td>351307.10</td>\n",
              "      <td>C2003119451</td>\n",
              "      <td>205347.38</td>\n",
              "      <td>0.00</td>\n",
              "      <td>C160048212</td>\n",
              "      <td>NaN</td>\n",
              "      <td>NaN</td>\n",
              "      <td>NaN</td>\n",
              "      <td>NaN</td>\n",
              "    </tr>\n",
              "  </tbody>\n",
              "</table>\n",
              "<p>5341239 rows × 11 columns</p>\n",
              "</div>\n",
              "      <button class=\"colab-df-convert\" onclick=\"convertToInteractive('df-bf214ddd-bb08-4161-9341-6e1aaec92edc')\"\n",
              "              title=\"Convert this dataframe to an interactive table.\"\n",
              "              style=\"display:none;\">\n",
              "        \n",
              "  <svg xmlns=\"http://www.w3.org/2000/svg\" height=\"24px\"viewBox=\"0 0 24 24\"\n",
              "       width=\"24px\">\n",
              "    <path d=\"M0 0h24v24H0V0z\" fill=\"none\"/>\n",
              "    <path d=\"M18.56 5.44l.94 2.06.94-2.06 2.06-.94-2.06-.94-.94-2.06-.94 2.06-2.06.94zm-11 1L8.5 8.5l.94-2.06 2.06-.94-2.06-.94L8.5 2.5l-.94 2.06-2.06.94zm10 10l.94 2.06.94-2.06 2.06-.94-2.06-.94-.94-2.06-.94 2.06-2.06.94z\"/><path d=\"M17.41 7.96l-1.37-1.37c-.4-.4-.92-.59-1.43-.59-.52 0-1.04.2-1.43.59L10.3 9.45l-7.72 7.72c-.78.78-.78 2.05 0 2.83L4 21.41c.39.39.9.59 1.41.59.51 0 1.02-.2 1.41-.59l7.78-7.78 2.81-2.81c.8-.78.8-2.07 0-2.86zM5.41 20L4 18.59l7.72-7.72 1.47 1.35L5.41 20z\"/>\n",
              "  </svg>\n",
              "      </button>\n",
              "      \n",
              "  <style>\n",
              "    .colab-df-container {\n",
              "      display:flex;\n",
              "      flex-wrap:wrap;\n",
              "      gap: 12px;\n",
              "    }\n",
              "\n",
              "    .colab-df-convert {\n",
              "      background-color: #E8F0FE;\n",
              "      border: none;\n",
              "      border-radius: 50%;\n",
              "      cursor: pointer;\n",
              "      display: none;\n",
              "      fill: #1967D2;\n",
              "      height: 32px;\n",
              "      padding: 0 0 0 0;\n",
              "      width: 32px;\n",
              "    }\n",
              "\n",
              "    .colab-df-convert:hover {\n",
              "      background-color: #E2EBFA;\n",
              "      box-shadow: 0px 1px 2px rgba(60, 64, 67, 0.3), 0px 1px 3px 1px rgba(60, 64, 67, 0.15);\n",
              "      fill: #174EA6;\n",
              "    }\n",
              "\n",
              "    [theme=dark] .colab-df-convert {\n",
              "      background-color: #3B4455;\n",
              "      fill: #D2E3FC;\n",
              "    }\n",
              "\n",
              "    [theme=dark] .colab-df-convert:hover {\n",
              "      background-color: #434B5C;\n",
              "      box-shadow: 0px 1px 3px 1px rgba(0, 0, 0, 0.15);\n",
              "      filter: drop-shadow(0px 1px 2px rgba(0, 0, 0, 0.3));\n",
              "      fill: #FFFFFF;\n",
              "    }\n",
              "  </style>\n",
              "\n",
              "      <script>\n",
              "        const buttonEl =\n",
              "          document.querySelector('#df-bf214ddd-bb08-4161-9341-6e1aaec92edc button.colab-df-convert');\n",
              "        buttonEl.style.display =\n",
              "          google.colab.kernel.accessAllowed ? 'block' : 'none';\n",
              "\n",
              "        async function convertToInteractive(key) {\n",
              "          const element = document.querySelector('#df-bf214ddd-bb08-4161-9341-6e1aaec92edc');\n",
              "          const dataTable =\n",
              "            await google.colab.kernel.invokeFunction('convertToInteractive',\n",
              "                                                     [key], {});\n",
              "          if (!dataTable) return;\n",
              "\n",
              "          const docLinkHtml = 'Like what you see? Visit the ' +\n",
              "            '<a target=\"_blank\" href=https://colab.research.google.com/notebooks/data_table.ipynb>data table notebook</a>'\n",
              "            + ' to learn more about interactive tables.';\n",
              "          element.innerHTML = '';\n",
              "          dataTable['output_type'] = 'display_data';\n",
              "          await google.colab.output.renderOutput(dataTable, element);\n",
              "          const docLink = document.createElement('div');\n",
              "          docLink.innerHTML = docLinkHtml;\n",
              "          element.appendChild(docLink);\n",
              "        }\n",
              "      </script>\n",
              "    </div>\n",
              "  </div>\n",
              "  "
            ]
          },
          "metadata": {},
          "execution_count": 4
        }
      ],
      "source": [
        "df = pd.read_csv(\"Online payment fraud detection.csv\")\n",
        "df"
      ]
    },
    {
      "cell_type": "markdown",
      "source": [
        "## **Data Preprocessing**"
      ],
      "metadata": {
        "id": "-4Nn9yG49ZT4"
      }
    },
    {
      "cell_type": "markdown",
      "source": [
        "**Shape od dataset**"
      ],
      "metadata": {
        "id": "uSeeHToq9hEX"
      }
    },
    {
      "cell_type": "code",
      "source": [
        "df.shape"
      ],
      "metadata": {
        "colab": {
          "base_uri": "https://localhost:8080/"
        },
        "id": "CsHjOyxj0IqV",
        "outputId": "e2f44ef9-6f7b-4532-c545-148ed3170864"
      },
      "execution_count": null,
      "outputs": [
        {
          "output_type": "execute_result",
          "data": {
            "text/plain": [
              "(5341239, 11)"
            ]
          },
          "metadata": {},
          "execution_count": 5
        }
      ]
    },
    {
      "cell_type": "markdown",
      "source": [
        " **Types of dataset**"
      ],
      "metadata": {
        "id": "W8J3FLon9okg"
      }
    },
    {
      "cell_type": "code",
      "execution_count": null,
      "metadata": {
        "id": "U8Sb9SCZ3leI",
        "colab": {
          "base_uri": "https://localhost:8080/"
        },
        "outputId": "9f76fb98-2593-4bc8-985a-ef053f09999f"
      },
      "outputs": [
        {
          "output_type": "stream",
          "name": "stdout",
          "text": [
            "<class 'pandas.core.frame.DataFrame'>\n",
            "RangeIndex: 5341239 entries, 0 to 5341238\n",
            "Data columns (total 11 columns):\n",
            " #   Column          Dtype  \n",
            "---  ------          -----  \n",
            " 0   step            int64  \n",
            " 1   type            object \n",
            " 2   amount          float64\n",
            " 3   nameOrig        object \n",
            " 4   oldbalanceOrg   float64\n",
            " 5   newbalanceOrig  float64\n",
            " 6   nameDest        object \n",
            " 7   oldbalanceDest  float64\n",
            " 8   newbalanceDest  float64\n",
            " 9   isFraud         float64\n",
            " 10  isFlaggedFraud  float64\n",
            "dtypes: float64(7), int64(1), object(3)\n",
            "memory usage: 448.3+ MB\n"
          ]
        }
      ],
      "source": [
        "df.info()"
      ]
    },
    {
      "cell_type": "markdown",
      "source": [
        "**Check null values**"
      ],
      "metadata": {
        "id": "z0_L5GZjw8np"
      }
    },
    {
      "cell_type": "code",
      "execution_count": null,
      "metadata": {
        "id": "cRd0WG546H_5",
        "colab": {
          "base_uri": "https://localhost:8080/"
        },
        "outputId": "f933888e-6990-4e9b-9ab7-1f0829ca7d2c"
      },
      "outputs": [
        {
          "output_type": "execute_result",
          "data": {
            "text/plain": [
              "step              0\n",
              "type              0\n",
              "amount            0\n",
              "nameOrig          0\n",
              "oldbalanceOrg     0\n",
              "newbalanceOrig    0\n",
              "nameDest          0\n",
              "oldbalanceDest    1\n",
              "newbalanceDest    1\n",
              "isFraud           1\n",
              "isFlaggedFraud    1\n",
              "dtype: int64"
            ]
          },
          "metadata": {},
          "execution_count": 7
        }
      ],
      "source": [
        "df.isna().sum()"
      ]
    },
    {
      "cell_type": "markdown",
      "source": [
        "**Remove null values**"
      ],
      "metadata": {
        "id": "p0fUKBtpxEYw"
      }
    },
    {
      "cell_type": "code",
      "source": [
        "df.dropna(inplace=True)\n",
        "df.isna().sum()"
      ],
      "metadata": {
        "id": "kUQc7TBDpqTd",
        "colab": {
          "base_uri": "https://localhost:8080/"
        },
        "outputId": "7871e588-9fd8-4883-845b-3eb56c5898b6"
      },
      "execution_count": null,
      "outputs": [
        {
          "output_type": "execute_result",
          "data": {
            "text/plain": [
              "step              0\n",
              "type              0\n",
              "amount            0\n",
              "nameOrig          0\n",
              "oldbalanceOrg     0\n",
              "newbalanceOrig    0\n",
              "nameDest          0\n",
              "oldbalanceDest    0\n",
              "newbalanceDest    0\n",
              "isFraud           0\n",
              "isFlaggedFraud    0\n",
              "dtype: int64"
            ]
          },
          "metadata": {},
          "execution_count": 8
        }
      ]
    },
    {
      "cell_type": "markdown",
      "source": [
        "**Describe dataset**"
      ],
      "metadata": {
        "id": "9SRwDYOSxKJI"
      }
    },
    {
      "cell_type": "code",
      "execution_count": null,
      "metadata": {
        "id": "YFzyoU33FH1Q",
        "colab": {
          "base_uri": "https://localhost:8080/",
          "height": 344
        },
        "outputId": "5a915bd5-43e3-4e2c-a180-33496e799b43"
      },
      "outputs": [
        {
          "output_type": "execute_result",
          "data": {
            "text/plain": [
              "               step        amount  oldbalanceOrg  newbalanceOrig  \\\n",
              "count  5.341238e+06  5.341238e+06   5.341238e+06    5.341238e+06   \n",
              "mean   2.024610e+02  1.814055e+05   8.428360e+05    8.647496e+05   \n",
              "std    1.088839e+02  6.327558e+05   2.922660e+06    2.959474e+06   \n",
              "min    1.000000e+00  0.000000e+00   0.000000e+00    0.000000e+00   \n",
              "25%    1.370000e+02  1.331781e+04   0.000000e+00    0.000000e+00   \n",
              "50%    2.100000e+02  7.542761e+04   1.396800e+04    0.000000e+00   \n",
              "75%    2.980000e+02  2.096998e+05   1.075375e+05    1.455718e+05   \n",
              "max    3.740000e+02  9.244552e+07   4.381886e+07    4.368662e+07   \n",
              "\n",
              "       oldbalanceDest  newbalanceDest       isFraud  isFlaggedFraud  \n",
              "count    5.341238e+06    5.341238e+06  5.341238e+06    5.341238e+06  \n",
              "mean     1.079423e+06    1.208835e+06  7.824029e-04    5.616675e-07  \n",
              "std      3.230759e+06    3.555776e+06  2.796052e-02    7.494447e-04  \n",
              "min      0.000000e+00    0.000000e+00  0.000000e+00    0.000000e+00  \n",
              "25%      0.000000e+00    0.000000e+00  0.000000e+00    0.000000e+00  \n",
              "50%      1.356913e+05    2.186002e+05  0.000000e+00    0.000000e+00  \n",
              "75%      9.461412e+05    1.119090e+06  0.000000e+00    0.000000e+00  \n",
              "max      3.555534e+08    3.555534e+08  1.000000e+00    1.000000e+00  "
            ],
            "text/html": [
              "\n",
              "  <div id=\"df-70ea0ae8-bd26-48e1-ac86-d50828ace7f5\">\n",
              "    <div class=\"colab-df-container\">\n",
              "      <div>\n",
              "<style scoped>\n",
              "    .dataframe tbody tr th:only-of-type {\n",
              "        vertical-align: middle;\n",
              "    }\n",
              "\n",
              "    .dataframe tbody tr th {\n",
              "        vertical-align: top;\n",
              "    }\n",
              "\n",
              "    .dataframe thead th {\n",
              "        text-align: right;\n",
              "    }\n",
              "</style>\n",
              "<table border=\"1\" class=\"dataframe\">\n",
              "  <thead>\n",
              "    <tr style=\"text-align: right;\">\n",
              "      <th></th>\n",
              "      <th>step</th>\n",
              "      <th>amount</th>\n",
              "      <th>oldbalanceOrg</th>\n",
              "      <th>newbalanceOrig</th>\n",
              "      <th>oldbalanceDest</th>\n",
              "      <th>newbalanceDest</th>\n",
              "      <th>isFraud</th>\n",
              "      <th>isFlaggedFraud</th>\n",
              "    </tr>\n",
              "  </thead>\n",
              "  <tbody>\n",
              "    <tr>\n",
              "      <th>count</th>\n",
              "      <td>5.341238e+06</td>\n",
              "      <td>5.341238e+06</td>\n",
              "      <td>5.341238e+06</td>\n",
              "      <td>5.341238e+06</td>\n",
              "      <td>5.341238e+06</td>\n",
              "      <td>5.341238e+06</td>\n",
              "      <td>5.341238e+06</td>\n",
              "      <td>5.341238e+06</td>\n",
              "    </tr>\n",
              "    <tr>\n",
              "      <th>mean</th>\n",
              "      <td>2.024610e+02</td>\n",
              "      <td>1.814055e+05</td>\n",
              "      <td>8.428360e+05</td>\n",
              "      <td>8.647496e+05</td>\n",
              "      <td>1.079423e+06</td>\n",
              "      <td>1.208835e+06</td>\n",
              "      <td>7.824029e-04</td>\n",
              "      <td>5.616675e-07</td>\n",
              "    </tr>\n",
              "    <tr>\n",
              "      <th>std</th>\n",
              "      <td>1.088839e+02</td>\n",
              "      <td>6.327558e+05</td>\n",
              "      <td>2.922660e+06</td>\n",
              "      <td>2.959474e+06</td>\n",
              "      <td>3.230759e+06</td>\n",
              "      <td>3.555776e+06</td>\n",
              "      <td>2.796052e-02</td>\n",
              "      <td>7.494447e-04</td>\n",
              "    </tr>\n",
              "    <tr>\n",
              "      <th>min</th>\n",
              "      <td>1.000000e+00</td>\n",
              "      <td>0.000000e+00</td>\n",
              "      <td>0.000000e+00</td>\n",
              "      <td>0.000000e+00</td>\n",
              "      <td>0.000000e+00</td>\n",
              "      <td>0.000000e+00</td>\n",
              "      <td>0.000000e+00</td>\n",
              "      <td>0.000000e+00</td>\n",
              "    </tr>\n",
              "    <tr>\n",
              "      <th>25%</th>\n",
              "      <td>1.370000e+02</td>\n",
              "      <td>1.331781e+04</td>\n",
              "      <td>0.000000e+00</td>\n",
              "      <td>0.000000e+00</td>\n",
              "      <td>0.000000e+00</td>\n",
              "      <td>0.000000e+00</td>\n",
              "      <td>0.000000e+00</td>\n",
              "      <td>0.000000e+00</td>\n",
              "    </tr>\n",
              "    <tr>\n",
              "      <th>50%</th>\n",
              "      <td>2.100000e+02</td>\n",
              "      <td>7.542761e+04</td>\n",
              "      <td>1.396800e+04</td>\n",
              "      <td>0.000000e+00</td>\n",
              "      <td>1.356913e+05</td>\n",
              "      <td>2.186002e+05</td>\n",
              "      <td>0.000000e+00</td>\n",
              "      <td>0.000000e+00</td>\n",
              "    </tr>\n",
              "    <tr>\n",
              "      <th>75%</th>\n",
              "      <td>2.980000e+02</td>\n",
              "      <td>2.096998e+05</td>\n",
              "      <td>1.075375e+05</td>\n",
              "      <td>1.455718e+05</td>\n",
              "      <td>9.461412e+05</td>\n",
              "      <td>1.119090e+06</td>\n",
              "      <td>0.000000e+00</td>\n",
              "      <td>0.000000e+00</td>\n",
              "    </tr>\n",
              "    <tr>\n",
              "      <th>max</th>\n",
              "      <td>3.740000e+02</td>\n",
              "      <td>9.244552e+07</td>\n",
              "      <td>4.381886e+07</td>\n",
              "      <td>4.368662e+07</td>\n",
              "      <td>3.555534e+08</td>\n",
              "      <td>3.555534e+08</td>\n",
              "      <td>1.000000e+00</td>\n",
              "      <td>1.000000e+00</td>\n",
              "    </tr>\n",
              "  </tbody>\n",
              "</table>\n",
              "</div>\n",
              "      <button class=\"colab-df-convert\" onclick=\"convertToInteractive('df-70ea0ae8-bd26-48e1-ac86-d50828ace7f5')\"\n",
              "              title=\"Convert this dataframe to an interactive table.\"\n",
              "              style=\"display:none;\">\n",
              "        \n",
              "  <svg xmlns=\"http://www.w3.org/2000/svg\" height=\"24px\"viewBox=\"0 0 24 24\"\n",
              "       width=\"24px\">\n",
              "    <path d=\"M0 0h24v24H0V0z\" fill=\"none\"/>\n",
              "    <path d=\"M18.56 5.44l.94 2.06.94-2.06 2.06-.94-2.06-.94-.94-2.06-.94 2.06-2.06.94zm-11 1L8.5 8.5l.94-2.06 2.06-.94-2.06-.94L8.5 2.5l-.94 2.06-2.06.94zm10 10l.94 2.06.94-2.06 2.06-.94-2.06-.94-.94-2.06-.94 2.06-2.06.94z\"/><path d=\"M17.41 7.96l-1.37-1.37c-.4-.4-.92-.59-1.43-.59-.52 0-1.04.2-1.43.59L10.3 9.45l-7.72 7.72c-.78.78-.78 2.05 0 2.83L4 21.41c.39.39.9.59 1.41.59.51 0 1.02-.2 1.41-.59l7.78-7.78 2.81-2.81c.8-.78.8-2.07 0-2.86zM5.41 20L4 18.59l7.72-7.72 1.47 1.35L5.41 20z\"/>\n",
              "  </svg>\n",
              "      </button>\n",
              "      \n",
              "  <style>\n",
              "    .colab-df-container {\n",
              "      display:flex;\n",
              "      flex-wrap:wrap;\n",
              "      gap: 12px;\n",
              "    }\n",
              "\n",
              "    .colab-df-convert {\n",
              "      background-color: #E8F0FE;\n",
              "      border: none;\n",
              "      border-radius: 50%;\n",
              "      cursor: pointer;\n",
              "      display: none;\n",
              "      fill: #1967D2;\n",
              "      height: 32px;\n",
              "      padding: 0 0 0 0;\n",
              "      width: 32px;\n",
              "    }\n",
              "\n",
              "    .colab-df-convert:hover {\n",
              "      background-color: #E2EBFA;\n",
              "      box-shadow: 0px 1px 2px rgba(60, 64, 67, 0.3), 0px 1px 3px 1px rgba(60, 64, 67, 0.15);\n",
              "      fill: #174EA6;\n",
              "    }\n",
              "\n",
              "    [theme=dark] .colab-df-convert {\n",
              "      background-color: #3B4455;\n",
              "      fill: #D2E3FC;\n",
              "    }\n",
              "\n",
              "    [theme=dark] .colab-df-convert:hover {\n",
              "      background-color: #434B5C;\n",
              "      box-shadow: 0px 1px 3px 1px rgba(0, 0, 0, 0.15);\n",
              "      filter: drop-shadow(0px 1px 2px rgba(0, 0, 0, 0.3));\n",
              "      fill: #FFFFFF;\n",
              "    }\n",
              "  </style>\n",
              "\n",
              "      <script>\n",
              "        const buttonEl =\n",
              "          document.querySelector('#df-70ea0ae8-bd26-48e1-ac86-d50828ace7f5 button.colab-df-convert');\n",
              "        buttonEl.style.display =\n",
              "          google.colab.kernel.accessAllowed ? 'block' : 'none';\n",
              "\n",
              "        async function convertToInteractive(key) {\n",
              "          const element = document.querySelector('#df-70ea0ae8-bd26-48e1-ac86-d50828ace7f5');\n",
              "          const dataTable =\n",
              "            await google.colab.kernel.invokeFunction('convertToInteractive',\n",
              "                                                     [key], {});\n",
              "          if (!dataTable) return;\n",
              "\n",
              "          const docLinkHtml = 'Like what you see? Visit the ' +\n",
              "            '<a target=\"_blank\" href=https://colab.research.google.com/notebooks/data_table.ipynb>data table notebook</a>'\n",
              "            + ' to learn more about interactive tables.';\n",
              "          element.innerHTML = '';\n",
              "          dataTable['output_type'] = 'display_data';\n",
              "          await google.colab.output.renderOutput(dataTable, element);\n",
              "          const docLink = document.createElement('div');\n",
              "          docLink.innerHTML = docLinkHtml;\n",
              "          element.appendChild(docLink);\n",
              "        }\n",
              "      </script>\n",
              "    </div>\n",
              "  </div>\n",
              "  "
            ]
          },
          "metadata": {},
          "execution_count": 9
        }
      ],
      "source": [
        "df.describe()"
      ]
    },
    {
      "cell_type": "markdown",
      "source": [
        " **Check Uniquea values**"
      ],
      "metadata": {
        "id": "5r9oP4K2s1gD"
      }
    },
    {
      "cell_type": "code",
      "execution_count": null,
      "metadata": {
        "id": "G6pechEZlU7K",
        "colab": {
          "base_uri": "https://localhost:8080/"
        },
        "outputId": "a49ada01-5d67-4887-f92d-4614369fe2c4"
      },
      "outputs": [
        {
          "output_type": "execute_result",
          "data": {
            "text/plain": [
              "5"
            ]
          },
          "metadata": {},
          "execution_count": 10
        }
      ],
      "source": [
        "len(df['type'].unique())"
      ]
    },
    {
      "cell_type": "code",
      "execution_count": null,
      "metadata": {
        "id": "_g5fDGzUkwJp",
        "colab": {
          "base_uri": "https://localhost:8080/"
        },
        "outputId": "641019db-1614-465d-f768-a6d46f6a5d16"
      },
      "outputs": [
        {
          "output_type": "execute_result",
          "data": {
            "text/plain": [
              "5334596"
            ]
          },
          "metadata": {},
          "execution_count": 11
        }
      ],
      "source": [
        "len(df['nameOrig'].unique())"
      ]
    },
    {
      "cell_type": "code",
      "execution_count": null,
      "metadata": {
        "id": "Xj7tLit0kwB4",
        "colab": {
          "base_uri": "https://localhost:8080/"
        },
        "outputId": "0fa07965-45a6-4b04-9832-4506b0c508d8"
      },
      "outputs": [
        {
          "output_type": "execute_result",
          "data": {
            "text/plain": [
              "2278427"
            ]
          },
          "metadata": {},
          "execution_count": 12
        }
      ],
      "source": [
        "len(df['nameDest'].unique())"
      ]
    },
    {
      "cell_type": "markdown",
      "source": [
        "**Drop columns**"
      ],
      "metadata": {
        "id": "WcTgvukXxS3g"
      }
    },
    {
      "cell_type": "code",
      "execution_count": null,
      "metadata": {
        "id": "YCIfxVW1lajh",
        "colab": {
          "base_uri": "https://localhost:8080/",
          "height": 467
        },
        "outputId": "c450bf6d-0620-4174-9c64-98d69daf2b4c"
      },
      "outputs": [
        {
          "output_type": "execute_result",
          "data": {
            "text/plain": [
              "         step      type      amount  oldbalanceOrg  newbalanceOrig  \\\n",
              "0           1   PAYMENT     9839.64       170136.0       160296.36   \n",
              "1           1   PAYMENT     1864.28        21249.0        19384.72   \n",
              "2           1  TRANSFER      181.00          181.0            0.00   \n",
              "3           1  CASH_OUT      181.00          181.0            0.00   \n",
              "4           1   PAYMENT    11668.14        41554.0        29885.86   \n",
              "...       ...       ...         ...            ...             ...   \n",
              "5341233   374  TRANSFER   469452.17          436.0            0.00   \n",
              "5341234   374   CASH_IN   347534.70        34461.0       381995.70   \n",
              "5341235   374  CASH_OUT   153325.77        11501.0            0.00   \n",
              "5341236   374  CASH_OUT   356624.10        24978.0            0.00   \n",
              "5341237   374  TRANSFER  1007995.22        70173.0            0.00   \n",
              "\n",
              "         oldbalanceDest  newbalanceDest  isFraud  isFlaggedFraud  \n",
              "0                  0.00            0.00      0.0             0.0  \n",
              "1                  0.00            0.00      0.0             0.0  \n",
              "2                  0.00            0.00      1.0             0.0  \n",
              "3              21182.00            0.00      1.0             0.0  \n",
              "4                  0.00            0.00      0.0             0.0  \n",
              "...                 ...             ...      ...             ...  \n",
              "5341233       163304.57       632756.74      0.0             0.0  \n",
              "5341234       285145.44            0.00      0.0             0.0  \n",
              "5341235        78661.36       231987.13      0.0             0.0  \n",
              "5341236      4756039.45      5112663.55      0.0             0.0  \n",
              "5341237       540347.09      1548342.32      0.0             0.0  \n",
              "\n",
              "[5341238 rows x 9 columns]"
            ],
            "text/html": [
              "\n",
              "  <div id=\"df-5cbe4b84-c85d-43f7-a041-83d78fc2a251\">\n",
              "    <div class=\"colab-df-container\">\n",
              "      <div>\n",
              "<style scoped>\n",
              "    .dataframe tbody tr th:only-of-type {\n",
              "        vertical-align: middle;\n",
              "    }\n",
              "\n",
              "    .dataframe tbody tr th {\n",
              "        vertical-align: top;\n",
              "    }\n",
              "\n",
              "    .dataframe thead th {\n",
              "        text-align: right;\n",
              "    }\n",
              "</style>\n",
              "<table border=\"1\" class=\"dataframe\">\n",
              "  <thead>\n",
              "    <tr style=\"text-align: right;\">\n",
              "      <th></th>\n",
              "      <th>step</th>\n",
              "      <th>type</th>\n",
              "      <th>amount</th>\n",
              "      <th>oldbalanceOrg</th>\n",
              "      <th>newbalanceOrig</th>\n",
              "      <th>oldbalanceDest</th>\n",
              "      <th>newbalanceDest</th>\n",
              "      <th>isFraud</th>\n",
              "      <th>isFlaggedFraud</th>\n",
              "    </tr>\n",
              "  </thead>\n",
              "  <tbody>\n",
              "    <tr>\n",
              "      <th>0</th>\n",
              "      <td>1</td>\n",
              "      <td>PAYMENT</td>\n",
              "      <td>9839.64</td>\n",
              "      <td>170136.0</td>\n",
              "      <td>160296.36</td>\n",
              "      <td>0.00</td>\n",
              "      <td>0.00</td>\n",
              "      <td>0.0</td>\n",
              "      <td>0.0</td>\n",
              "    </tr>\n",
              "    <tr>\n",
              "      <th>1</th>\n",
              "      <td>1</td>\n",
              "      <td>PAYMENT</td>\n",
              "      <td>1864.28</td>\n",
              "      <td>21249.0</td>\n",
              "      <td>19384.72</td>\n",
              "      <td>0.00</td>\n",
              "      <td>0.00</td>\n",
              "      <td>0.0</td>\n",
              "      <td>0.0</td>\n",
              "    </tr>\n",
              "    <tr>\n",
              "      <th>2</th>\n",
              "      <td>1</td>\n",
              "      <td>TRANSFER</td>\n",
              "      <td>181.00</td>\n",
              "      <td>181.0</td>\n",
              "      <td>0.00</td>\n",
              "      <td>0.00</td>\n",
              "      <td>0.00</td>\n",
              "      <td>1.0</td>\n",
              "      <td>0.0</td>\n",
              "    </tr>\n",
              "    <tr>\n",
              "      <th>3</th>\n",
              "      <td>1</td>\n",
              "      <td>CASH_OUT</td>\n",
              "      <td>181.00</td>\n",
              "      <td>181.0</td>\n",
              "      <td>0.00</td>\n",
              "      <td>21182.00</td>\n",
              "      <td>0.00</td>\n",
              "      <td>1.0</td>\n",
              "      <td>0.0</td>\n",
              "    </tr>\n",
              "    <tr>\n",
              "      <th>4</th>\n",
              "      <td>1</td>\n",
              "      <td>PAYMENT</td>\n",
              "      <td>11668.14</td>\n",
              "      <td>41554.0</td>\n",
              "      <td>29885.86</td>\n",
              "      <td>0.00</td>\n",
              "      <td>0.00</td>\n",
              "      <td>0.0</td>\n",
              "      <td>0.0</td>\n",
              "    </tr>\n",
              "    <tr>\n",
              "      <th>...</th>\n",
              "      <td>...</td>\n",
              "      <td>...</td>\n",
              "      <td>...</td>\n",
              "      <td>...</td>\n",
              "      <td>...</td>\n",
              "      <td>...</td>\n",
              "      <td>...</td>\n",
              "      <td>...</td>\n",
              "      <td>...</td>\n",
              "    </tr>\n",
              "    <tr>\n",
              "      <th>5341233</th>\n",
              "      <td>374</td>\n",
              "      <td>TRANSFER</td>\n",
              "      <td>469452.17</td>\n",
              "      <td>436.0</td>\n",
              "      <td>0.00</td>\n",
              "      <td>163304.57</td>\n",
              "      <td>632756.74</td>\n",
              "      <td>0.0</td>\n",
              "      <td>0.0</td>\n",
              "    </tr>\n",
              "    <tr>\n",
              "      <th>5341234</th>\n",
              "      <td>374</td>\n",
              "      <td>CASH_IN</td>\n",
              "      <td>347534.70</td>\n",
              "      <td>34461.0</td>\n",
              "      <td>381995.70</td>\n",
              "      <td>285145.44</td>\n",
              "      <td>0.00</td>\n",
              "      <td>0.0</td>\n",
              "      <td>0.0</td>\n",
              "    </tr>\n",
              "    <tr>\n",
              "      <th>5341235</th>\n",
              "      <td>374</td>\n",
              "      <td>CASH_OUT</td>\n",
              "      <td>153325.77</td>\n",
              "      <td>11501.0</td>\n",
              "      <td>0.00</td>\n",
              "      <td>78661.36</td>\n",
              "      <td>231987.13</td>\n",
              "      <td>0.0</td>\n",
              "      <td>0.0</td>\n",
              "    </tr>\n",
              "    <tr>\n",
              "      <th>5341236</th>\n",
              "      <td>374</td>\n",
              "      <td>CASH_OUT</td>\n",
              "      <td>356624.10</td>\n",
              "      <td>24978.0</td>\n",
              "      <td>0.00</td>\n",
              "      <td>4756039.45</td>\n",
              "      <td>5112663.55</td>\n",
              "      <td>0.0</td>\n",
              "      <td>0.0</td>\n",
              "    </tr>\n",
              "    <tr>\n",
              "      <th>5341237</th>\n",
              "      <td>374</td>\n",
              "      <td>TRANSFER</td>\n",
              "      <td>1007995.22</td>\n",
              "      <td>70173.0</td>\n",
              "      <td>0.00</td>\n",
              "      <td>540347.09</td>\n",
              "      <td>1548342.32</td>\n",
              "      <td>0.0</td>\n",
              "      <td>0.0</td>\n",
              "    </tr>\n",
              "  </tbody>\n",
              "</table>\n",
              "<p>5341238 rows × 9 columns</p>\n",
              "</div>\n",
              "      <button class=\"colab-df-convert\" onclick=\"convertToInteractive('df-5cbe4b84-c85d-43f7-a041-83d78fc2a251')\"\n",
              "              title=\"Convert this dataframe to an interactive table.\"\n",
              "              style=\"display:none;\">\n",
              "        \n",
              "  <svg xmlns=\"http://www.w3.org/2000/svg\" height=\"24px\"viewBox=\"0 0 24 24\"\n",
              "       width=\"24px\">\n",
              "    <path d=\"M0 0h24v24H0V0z\" fill=\"none\"/>\n",
              "    <path d=\"M18.56 5.44l.94 2.06.94-2.06 2.06-.94-2.06-.94-.94-2.06-.94 2.06-2.06.94zm-11 1L8.5 8.5l.94-2.06 2.06-.94-2.06-.94L8.5 2.5l-.94 2.06-2.06.94zm10 10l.94 2.06.94-2.06 2.06-.94-2.06-.94-.94-2.06-.94 2.06-2.06.94z\"/><path d=\"M17.41 7.96l-1.37-1.37c-.4-.4-.92-.59-1.43-.59-.52 0-1.04.2-1.43.59L10.3 9.45l-7.72 7.72c-.78.78-.78 2.05 0 2.83L4 21.41c.39.39.9.59 1.41.59.51 0 1.02-.2 1.41-.59l7.78-7.78 2.81-2.81c.8-.78.8-2.07 0-2.86zM5.41 20L4 18.59l7.72-7.72 1.47 1.35L5.41 20z\"/>\n",
              "  </svg>\n",
              "      </button>\n",
              "      \n",
              "  <style>\n",
              "    .colab-df-container {\n",
              "      display:flex;\n",
              "      flex-wrap:wrap;\n",
              "      gap: 12px;\n",
              "    }\n",
              "\n",
              "    .colab-df-convert {\n",
              "      background-color: #E8F0FE;\n",
              "      border: none;\n",
              "      border-radius: 50%;\n",
              "      cursor: pointer;\n",
              "      display: none;\n",
              "      fill: #1967D2;\n",
              "      height: 32px;\n",
              "      padding: 0 0 0 0;\n",
              "      width: 32px;\n",
              "    }\n",
              "\n",
              "    .colab-df-convert:hover {\n",
              "      background-color: #E2EBFA;\n",
              "      box-shadow: 0px 1px 2px rgba(60, 64, 67, 0.3), 0px 1px 3px 1px rgba(60, 64, 67, 0.15);\n",
              "      fill: #174EA6;\n",
              "    }\n",
              "\n",
              "    [theme=dark] .colab-df-convert {\n",
              "      background-color: #3B4455;\n",
              "      fill: #D2E3FC;\n",
              "    }\n",
              "\n",
              "    [theme=dark] .colab-df-convert:hover {\n",
              "      background-color: #434B5C;\n",
              "      box-shadow: 0px 1px 3px 1px rgba(0, 0, 0, 0.15);\n",
              "      filter: drop-shadow(0px 1px 2px rgba(0, 0, 0, 0.3));\n",
              "      fill: #FFFFFF;\n",
              "    }\n",
              "  </style>\n",
              "\n",
              "      <script>\n",
              "        const buttonEl =\n",
              "          document.querySelector('#df-5cbe4b84-c85d-43f7-a041-83d78fc2a251 button.colab-df-convert');\n",
              "        buttonEl.style.display =\n",
              "          google.colab.kernel.accessAllowed ? 'block' : 'none';\n",
              "\n",
              "        async function convertToInteractive(key) {\n",
              "          const element = document.querySelector('#df-5cbe4b84-c85d-43f7-a041-83d78fc2a251');\n",
              "          const dataTable =\n",
              "            await google.colab.kernel.invokeFunction('convertToInteractive',\n",
              "                                                     [key], {});\n",
              "          if (!dataTable) return;\n",
              "\n",
              "          const docLinkHtml = 'Like what you see? Visit the ' +\n",
              "            '<a target=\"_blank\" href=https://colab.research.google.com/notebooks/data_table.ipynb>data table notebook</a>'\n",
              "            + ' to learn more about interactive tables.';\n",
              "          element.innerHTML = '';\n",
              "          dataTable['output_type'] = 'display_data';\n",
              "          await google.colab.output.renderOutput(dataTable, element);\n",
              "          const docLink = document.createElement('div');\n",
              "          docLink.innerHTML = docLinkHtml;\n",
              "          element.appendChild(docLink);\n",
              "        }\n",
              "      </script>\n",
              "    </div>\n",
              "  </div>\n",
              "  "
            ]
          },
          "metadata": {},
          "execution_count": 13
        }
      ],
      "source": [
        "df = df.drop(columns = ['nameOrig','nameDest'], axis=1)\n",
        "df"
      ]
    },
    {
      "cell_type": "markdown",
      "source": [
        "**Exploring transaction type**"
      ],
      "metadata": {
        "id": "_W0k8NCL2rjO"
      }
    },
    {
      "cell_type": "code",
      "execution_count": null,
      "metadata": {
        "id": "YOy-OKBBFHfm",
        "colab": {
          "base_uri": "https://localhost:8080/"
        },
        "outputId": "2a724c86-a05d-4614-ec6b-e7235b1d91a2"
      },
      "outputs": [
        {
          "output_type": "stream",
          "name": "stdout",
          "text": [
            "CASH_OUT    1889144\n",
            "PAYMENT     1801048\n",
            "CASH_IN     1172942\n",
            "TRANSFER     443829\n",
            "DEBIT         34275\n",
            "Name: type, dtype: int64\n"
          ]
        }
      ],
      "source": [
        "print(df['type'].value_counts())"
      ]
    },
    {
      "cell_type": "code",
      "source": [
        "print(df['isFraud'].value_counts())"
      ],
      "metadata": {
        "colab": {
          "base_uri": "https://localhost:8080/"
        },
        "id": "wKhOXFdK2Sjs",
        "outputId": "bb3a8e54-fdf9-4668-be33-849649de53fd"
      },
      "execution_count": null,
      "outputs": [
        {
          "output_type": "stream",
          "name": "stdout",
          "text": [
            "0.0    5337059\n",
            "1.0       4179\n",
            "Name: isFraud, dtype: int64\n"
          ]
        }
      ]
    },
    {
      "cell_type": "markdown",
      "source": [
        "## **Distribution variable**"
      ],
      "metadata": {
        "id": "ycsre9VVv90y"
      }
    },
    {
      "cell_type": "code",
      "source": [
        "sns.countplot(x='type',data=df)"
      ],
      "metadata": {
        "colab": {
          "base_uri": "https://localhost:8080/",
          "height": 309
        },
        "id": "Y-z8NnBB6dPo",
        "outputId": "a132fcc1-9f45-42c4-beab-86c3c5998227"
      },
      "execution_count": null,
      "outputs": [
        {
          "output_type": "execute_result",
          "data": {
            "text/plain": [
              "<matplotlib.axes._subplots.AxesSubplot at 0x7f127c089a50>"
            ]
          },
          "metadata": {},
          "execution_count": 16
        },
        {
          "output_type": "display_data",
          "data": {
            "text/plain": [
              "<Figure size 432x288 with 1 Axes>"
            ],
            "image/png": "[encoded data removed]"
          },
          "metadata": {
            "needs_background": "light"
          }
        }
      ]
    },
    {
      "cell_type": "markdown",
      "source": [
        "Cash out and payment are the most common type of transactions."
      ],
      "metadata": {
        "id": "pDhrGkYe71BN"
      }
    },
    {
      "cell_type": "code",
      "source": [
        "sns.countplot(x='isFraud',data=df)"
      ],
      "metadata": {
        "colab": {
          "base_uri": "https://localhost:8080/",
          "height": 308
        },
        "id": "kT8SgNaN7CeK",
        "outputId": "9bcb32fa-185f-428e-b62a-3343ebd871a3"
      },
      "execution_count": null,
      "outputs": [
        {
          "output_type": "execute_result",
          "data": {
            "text/plain": [
              "<matplotlib.axes._subplots.AxesSubplot at 0x7f127b2e2610>"
            ]
          },
          "metadata": {},
          "execution_count": 17
        },
        {
          "output_type": "display_data",
          "data": {
            "text/plain": [
              "<Figure size 432x288 with 1 Axes>"
            ],
            "image/png": "[encoded data removed]"
          },
          "metadata": {
            "needs_background": "light"
          }
        }
      ]
    },
    {
      "cell_type": "markdown",
      "source": [
        "The above graph indicates that the dataset is highly unbalanced."
      ],
      "metadata": {
        "id": "6JtYjhrY74kB"
      }
    },
    {
      "cell_type": "code",
      "source": [
        "plt.figure(figsize=(8,6))\n",
        "sns.distplot(df['step'],bins=100)"
      ],
      "metadata": {
        "colab": {
          "base_uri": "https://localhost:8080/",
          "height": 463
        },
        "id": "ukmOWsV88eHM",
        "outputId": "9fc36445-b312-4930-b59e-8ffbab1c5e92"
      },
      "execution_count": null,
      "outputs": [
        {
          "output_type": "stream",
          "name": "stderr",
          "text": [
            "/usr/local/lib/python3.7/dist-packages/seaborn/distributions.py:2619: FutureWarning: `distplot` is a deprecated function and will be removed in a future version. Please adapt your code to use either `displot` (a figure-level function with similar flexibility) or `histplot` (an axes-level function for histograms).\n",
            "  warnings.warn(msg, FutureWarning)\n"
          ]
        },
        {
          "output_type": "execute_result",
          "data": {
            "text/plain": [
              "<matplotlib.axes._subplots.AxesSubplot at 0x7f127b335bd0>"
            ]
          },
          "metadata": {},
          "execution_count": 18
        },
        {
          "output_type": "display_data",
          "data": {
            "text/plain": [
              "<Figure size 576x432 with 1 Axes>"
            ],
            "image/png": "[encoded data removed]"
          },
          "metadata": {
            "needs_background": "light"
          }
        }
      ]
    },
    {
      "cell_type": "markdown",
      "source": [
        "The above graph indicates the distribution of the step column."
      ],
      "metadata": {
        "id": "9fyO0n_J8sTr"
      }
    },
    {
      "cell_type": "markdown",
      "metadata": {
        "id": "FqGJHRy0q74_"
      },
      "source": [
        "**Amount**\n",
        "\n",
        "Let's look at the distribution of amount variable"
      ]
    },
    {
      "cell_type": "code",
      "execution_count": null,
      "metadata": {
        "id": "PqB34Cc1qcro",
        "colab": {
          "base_uri": "https://localhost:8080/",
          "height": 352
        },
        "outputId": "05a6ed45-9e40-40c4-ce79-1ba79d7681bf"
      },
      "outputs": [
        {
          "output_type": "stream",
          "name": "stderr",
          "text": [
            "/usr/local/lib/python3.7/dist-packages/seaborn/distributions.py:2619: FutureWarning: `distplot` is a deprecated function and will be removed in a future version. Please adapt your code to use either `displot` (a figure-level function with similar flexibility) or `histplot` (an axes-level function for histograms).\n",
            "  warnings.warn(msg, FutureWarning)\n"
          ]
        },
        {
          "output_type": "display_data",
          "data": {
            "text/plain": [
              "<Figure size 432x288 with 1 Axes>"
            ],
            "image/png": "[encoded data removed]"
          },
          "metadata": {
            "needs_background": "light"
          }
        }
      ],
      "source": [
        "plt.figure(figsize=(6, 4))\n",
        "sns.distplot(df['amount'])\n",
        "plt.title(' Distribution of amount')\n",
        "plt.show()"
      ]
    },
    {
      "cell_type": "markdown",
      "metadata": {
        "id": "JccNfP9CrCCf"
      },
      "source": [
        "The distribution of amount is left skewed"
      ]
    },
    {
      "cell_type": "markdown",
      "metadata": {
        "id": "IQwclJ7PrDGX"
      },
      "source": [
        " **newbalanceOrg**\n",
        "\n",
        "Let's look at the distribution of oldbalanceOrg variable"
      ]
    },
    {
      "cell_type": "code",
      "execution_count": null,
      "metadata": {
        "id": "oEe_mteprF7o",
        "colab": {
          "base_uri": "https://localhost:8080/",
          "height": 352
        },
        "outputId": "51ea0511-1ba5-46d6-8d20-c5abee85feca"
      },
      "outputs": [
        {
          "output_type": "stream",
          "name": "stderr",
          "text": [
            "/usr/local/lib/python3.7/dist-packages/seaborn/distributions.py:2619: FutureWarning: `distplot` is a deprecated function and will be removed in a future version. Please adapt your code to use either `displot` (a figure-level function with similar flexibility) or `histplot` (an axes-level function for histograms).\n",
            "  warnings.warn(msg, FutureWarning)\n"
          ]
        },
        {
          "output_type": "display_data",
          "data": {
            "text/plain": [
              "<Figure size 432x288 with 1 Axes>"
            ],
            "image/png": "[encoded data removed]"
          },
          "metadata": {
            "needs_background": "light"
          }
        }
      ],
      "source": [
        "plt.figure(figsize=(6, 4))\n",
        "sns.distplot(df['newbalanceOrig'])\n",
        "plt.title(' Distribution of balance after transaction')\n",
        "plt.show()"
      ]
    },
    {
      "cell_type": "markdown",
      "metadata": {
        "id": "07mR2b3RrP24"
      },
      "source": [
        "The distribution of newbalanceOrig i s left skewed"
      ]
    },
    {
      "cell_type": "markdown",
      "metadata": {
        "id": "fUR4iGi3rhbw"
      },
      "source": [
        "**oldbalanceOrg**\n",
        "\n",
        "Let's look at the distribution of oldbalanceOrg variable"
      ]
    },
    {
      "cell_type": "code",
      "execution_count": null,
      "metadata": {
        "id": "SODYfKBqriRg",
        "colab": {
          "base_uri": "https://localhost:8080/",
          "height": 352
        },
        "outputId": "85b78982-e1ff-49be-dd5a-52b55c6e221a"
      },
      "outputs": [
        {
          "output_type": "stream",
          "name": "stderr",
          "text": [
            "/usr/local/lib/python3.7/dist-packages/seaborn/distributions.py:2619: FutureWarning: `distplot` is a deprecated function and will be removed in a future version. Please adapt your code to use either `displot` (a figure-level function with similar flexibility) or `histplot` (an axes-level function for histograms).\n",
            "  warnings.warn(msg, FutureWarning)\n"
          ]
        },
        {
          "output_type": "display_data",
          "data": {
            "text/plain": [
              "<Figure size 432x288 with 1 Axes>"
            ],
            "image/png": "[encoded data removed]"
          },
          "metadata": {
            "needs_background": "light"
          }
        }
      ],
      "source": [
        "plt.figure(figsize=(6, 4))\n",
        "sns.distplot(df['oldbalanceOrg'])\n",
        "plt.title(' Distribution of balance before transaction')\n",
        "plt.show()"
      ]
    },
    {
      "cell_type": "markdown",
      "metadata": {
        "id": "om_Msj5wropR"
      },
      "source": [
        "The distribution of oldbalanceOrg i s left skewed"
      ]
    },
    {
      "cell_type": "code",
      "source": [
        "plt.figure(figsize=(8,6))\n",
        "plt.scatter(x='amount',y='isFraud',data=df)\n",
        "plt.xlabel('amount')\n",
        "plt.ylabel('isFraud')"
      ],
      "metadata": {
        "colab": {
          "base_uri": "https://localhost:8080/",
          "height": 406
        },
        "id": "WbfM_ALO9TDN",
        "outputId": "8abd3e64-7509-4006-fda2-96c2d98334bd"
      },
      "execution_count": null,
      "outputs": [
        {
          "output_type": "execute_result",
          "data": {
            "text/plain": [
              "Text(0, 0.5, 'isFraud')"
            ]
          },
          "metadata": {},
          "execution_count": 22
        },
        {
          "output_type": "display_data",
          "data": {
            "text/plain": [
              "<Figure size 576x432 with 1 Axes>"
            ],
            "image/png": "[encoded data removed]"
          },
          "metadata": {
            "needs_background": "light"
          }
        }
      ]
    },
    {
      "cell_type": "markdown",
      "source": [
        "Although the amount of fraudulent transactions is very low, majority of them are constituted within 0 and 1e7 (10,000,000) amount."
      ],
      "metadata": {
        "id": "_GyE03wu9f2c"
      }
    },
    {
      "cell_type": "code",
      "source": [
        "plt.scatter(x='type',y='isFraud',data=df)\n",
        "plt.xlabel('type')\n",
        "plt.ylabel('isFraud')"
      ],
      "metadata": {
        "colab": {
          "base_uri": "https://localhost:8080/",
          "height": 298
        },
        "id": "ABcgGyT_9rKH",
        "outputId": "67b9e303-8fea-4f86-f11c-bf6d817e0c0d"
      },
      "execution_count": null,
      "outputs": [
        {
          "output_type": "execute_result",
          "data": {
            "text/plain": [
              "Text(0, 0.5, 'isFraud')"
            ]
          },
          "metadata": {},
          "execution_count": 23
        },
        {
          "output_type": "display_data",
          "data": {
            "text/plain": [
              "<Figure size 432x288 with 1 Axes>"
            ],
            "image/png": "[encoded data removed]"
          },
          "metadata": {
            "needs_background": "light"
          }
        }
      ]
    },
    {
      "cell_type": "code",
      "source": [
        "plt.figure(figsize=(8,6))\n",
        "sns.countplot(x='isFraud',data=df,hue='type')\n",
        "plt.legend(loc=[0.85,0.8])"
      ],
      "metadata": {
        "colab": {
          "base_uri": "https://localhost:8080/",
          "height": 421
        },
        "id": "_bOc6Ano90LE",
        "outputId": "ff14ddc6-e9d9-4c99-f2fe-2970d62b64f2"
      },
      "execution_count": null,
      "outputs": [
        {
          "output_type": "execute_result",
          "data": {
            "text/plain": [
              "<matplotlib.legend.Legend at 0x7f12780f7dd0>"
            ]
          },
          "metadata": {},
          "execution_count": 24
        },
        {
          "output_type": "display_data",
          "data": {
            "text/plain": [
              "<Figure size 576x432 with 1 Axes>"
            ],
            "image/png": "[encoded data removed]"
          },
          "metadata": {
            "needs_background": "light"
          }
        }
      ]
    },
    {
      "cell_type": "markdown",
      "source": [
        "Both the above graphs indicate that transactions of the type 'transfer' and 'cash out' comprise fraudulent transactions."
      ],
      "metadata": {
        "id": "5BNjXhBo-Im_"
      }
    },
    {
      "cell_type": "markdown",
      "metadata": {
        "id": "aI9zl2nqryHw"
      },
      "source": [
        "## **Correlation**"
      ]
    },
    {
      "cell_type": "code",
      "execution_count": null,
      "metadata": {
        "id": "se0ar085tD7v",
        "colab": {
          "base_uri": "https://localhost:8080/",
          "height": 451
        },
        "outputId": "1f4ed231-ffad-476c-bd9b-73c30e736a2e"
      },
      "outputs": [
        {
          "output_type": "display_data",
          "data": {
            "text/plain": [
              "<Figure size 576x432 with 2 Axes>"
            ],
            "image/png": "[encoded data removed]"
          },
          "metadata": {}
        }
      ],
      "source": [
        "plt.style.use(\"ggplot\")\n",
        "plt.figure(figsize = (8,6))        # Size of the figure\n",
        "sns.heatmap(df.corr(),annot = True,cmap=\"Blues\")\n",
        "plt.show()"
      ]
    },
    {
      "cell_type": "markdown",
      "metadata": {
        "id": "qLAnf185vL8P"
      },
      "source": [
        "show Correlation"
      ]
    },
    {
      "cell_type": "code",
      "execution_count": null,
      "metadata": {
        "id": "3PNTOYR7t7XT",
        "colab": {
          "base_uri": "https://localhost:8080/"
        },
        "outputId": "5154f7d8-e078-4a28-cf90-a880c2a00f8b"
      },
      "outputs": [
        {
          "output_type": "stream",
          "name": "stdout",
          "text": [
            "isFraud           1.000000\n",
            "amount            0.052503\n",
            "isFlaggedFraud    0.026783\n",
            "oldbalanceOrg     0.005790\n",
            "newbalanceDest   -0.000356\n",
            "step             -0.004633\n",
            "oldbalanceDest   -0.005294\n",
            "newbalanceOrig   -0.007391\n",
            "Name: isFraud, dtype: float64\n"
          ]
        }
      ],
      "source": [
        "correlation = df.corr()\n",
        "print(correlation['isFraud'].sort_values(ascending = False))"
      ]
    },
    {
      "cell_type": "markdown",
      "metadata": {
        "id": "fmLENFcSvdNw"
      },
      "source": [
        "## **Label Encoding**\n",
        "\n",
        "Change datatypes"
      ]
    },
    {
      "cell_type": "code",
      "execution_count": null,
      "metadata": {
        "id": "V1xSNXv5vSZk",
        "colab": {
          "base_uri": "https://localhost:8080/"
        },
        "outputId": "90522a55-fdbc-4578-a638-ffa993d2422d"
      },
      "outputs": [
        {
          "output_type": "stream",
          "name": "stdout",
          "text": [
            "0          3\n",
            "1          3\n",
            "2          4\n",
            "3          1\n",
            "4          3\n",
            "          ..\n",
            "5341233    4\n",
            "5341234    0\n",
            "5341235    1\n",
            "5341236    1\n",
            "5341237    4\n",
            "Name: type, Length: 5341238, dtype: int64\n"
          ]
        }
      ],
      "source": [
        "from sklearn.preprocessing import LabelEncoder\n",
        "labelencoder = LabelEncoder()\n",
        "df['type'] = labelencoder.fit_transform(df['type'])\n",
        "print(df['type'])"
      ]
    },
    {
      "cell_type": "code",
      "source": [
        "df['isFraud']=df['isFraud'].astype('int64')"
      ],
      "metadata": {
        "id": "9TpOWejaDfVs"
      },
      "execution_count": null,
      "outputs": []
    },
    {
      "cell_type": "code",
      "execution_count": null,
      "metadata": {
        "id": "jAwG1SOhv4No",
        "colab": {
          "base_uri": "https://localhost:8080/",
          "height": 206
        },
        "outputId": "844e784a-1e4b-4ef1-8694-021bce90b42b"
      },
      "outputs": [
        {
          "output_type": "execute_result",
          "data": {
            "text/plain": [
              "   step  type    amount  oldbalanceOrg  newbalanceOrig  oldbalanceDest  \\\n",
              "0     1     3   9839.64       170136.0       160296.36             0.0   \n",
              "1     1     3   1864.28        21249.0        19384.72             0.0   \n",
              "2     1     4    181.00          181.0            0.00             0.0   \n",
              "3     1     1    181.00          181.0            0.00         21182.0   \n",
              "4     1     3  11668.14        41554.0        29885.86             0.0   \n",
              "\n",
              "   newbalanceDest  isFraud  isFlaggedFraud  \n",
              "0             0.0        0             0.0  \n",
              "1             0.0        0             0.0  \n",
              "2             0.0        1             0.0  \n",
              "3             0.0        1             0.0  \n",
              "4             0.0        0             0.0  "
            ],
            "text/html": [
              "\n",
              "  <div id=\"df-6b4cd1c0-1400-4051-8341-ab2f368cbedb\">\n",
              "    <div class=\"colab-df-container\">\n",
              "      <div>\n",
              "<style scoped>\n",
              "    .dataframe tbody tr th:only-of-type {\n",
              "        vertical-align: middle;\n",
              "    }\n",
              "\n",
              "    .dataframe tbody tr th {\n",
              "        vertical-align: top;\n",
              "    }\n",
              "\n",
              "    .dataframe thead th {\n",
              "        text-align: right;\n",
              "    }\n",
              "</style>\n",
              "<table border=\"1\" class=\"dataframe\">\n",
              "  <thead>\n",
              "    <tr style=\"text-align: right;\">\n",
              "      <th></th>\n",
              "      <th>step</th>\n",
              "      <th>type</th>\n",
              "      <th>amount</th>\n",
              "      <th>oldbalanceOrg</th>\n",
              "      <th>newbalanceOrig</th>\n",
              "      <th>oldbalanceDest</th>\n",
              "      <th>newbalanceDest</th>\n",
              "      <th>isFraud</th>\n",
              "      <th>isFlaggedFraud</th>\n",
              "    </tr>\n",
              "  </thead>\n",
              "  <tbody>\n",
              "    <tr>\n",
              "      <th>0</th>\n",
              "      <td>1</td>\n",
              "      <td>3</td>\n",
              "      <td>9839.64</td>\n",
              "      <td>170136.0</td>\n",
              "      <td>160296.36</td>\n",
              "      <td>0.0</td>\n",
              "      <td>0.0</td>\n",
              "      <td>0</td>\n",
              "      <td>0.0</td>\n",
              "    </tr>\n",
              "    <tr>\n",
              "      <th>1</th>\n",
              "      <td>1</td>\n",
              "      <td>3</td>\n",
              "      <td>1864.28</td>\n",
              "      <td>21249.0</td>\n",
              "      <td>19384.72</td>\n",
              "      <td>0.0</td>\n",
              "      <td>0.0</td>\n",
              "      <td>0</td>\n",
              "      <td>0.0</td>\n",
              "    </tr>\n",
              "    <tr>\n",
              "      <th>2</th>\n",
              "      <td>1</td>\n",
              "      <td>4</td>\n",
              "      <td>181.00</td>\n",
              "      <td>181.0</td>\n",
              "      <td>0.00</td>\n",
              "      <td>0.0</td>\n",
              "      <td>0.0</td>\n",
              "      <td>1</td>\n",
              "      <td>0.0</td>\n",
              "    </tr>\n",
              "    <tr>\n",
              "      <th>3</th>\n",
              "      <td>1</td>\n",
              "      <td>1</td>\n",
              "      <td>181.00</td>\n",
              "      <td>181.0</td>\n",
              "      <td>0.00</td>\n",
              "      <td>21182.0</td>\n",
              "      <td>0.0</td>\n",
              "      <td>1</td>\n",
              "      <td>0.0</td>\n",
              "    </tr>\n",
              "    <tr>\n",
              "      <th>4</th>\n",
              "      <td>1</td>\n",
              "      <td>3</td>\n",
              "      <td>11668.14</td>\n",
              "      <td>41554.0</td>\n",
              "      <td>29885.86</td>\n",
              "      <td>0.0</td>\n",
              "      <td>0.0</td>\n",
              "      <td>0</td>\n",
              "      <td>0.0</td>\n",
              "    </tr>\n",
              "  </tbody>\n",
              "</table>\n",
              "</div>\n",
              "      <button class=\"colab-df-convert\" onclick=\"convertToInteractive('df-6b4cd1c0-1400-4051-8341-ab2f368cbedb')\"\n",
              "              title=\"Convert this dataframe to an interactive table.\"\n",
              "              style=\"display:none;\">\n",
              "        \n",
              "  <svg xmlns=\"http://www.w3.org/2000/svg\" height=\"24px\"viewBox=\"0 0 24 24\"\n",
              "       width=\"24px\">\n",
              "    <path d=\"M0 0h24v24H0V0z\" fill=\"none\"/>\n",
              "    <path d=\"M18.56 5.44l.94 2.06.94-2.06 2.06-.94-2.06-.94-.94-2.06-.94 2.06-2.06.94zm-11 1L8.5 8.5l.94-2.06 2.06-.94-2.06-.94L8.5 2.5l-.94 2.06-2.06.94zm10 10l.94 2.06.94-2.06 2.06-.94-2.06-.94-.94-2.06-.94 2.06-2.06.94z\"/><path d=\"M17.41 7.96l-1.37-1.37c-.4-.4-.92-.59-1.43-.59-.52 0-1.04.2-1.43.59L10.3 9.45l-7.72 7.72c-.78.78-.78 2.05 0 2.83L4 21.41c.39.39.9.59 1.41.59.51 0 1.02-.2 1.41-.59l7.78-7.78 2.81-2.81c.8-.78.8-2.07 0-2.86zM5.41 20L4 18.59l7.72-7.72 1.47 1.35L5.41 20z\"/>\n",
              "  </svg>\n",
              "      </button>\n",
              "      \n",
              "  <style>\n",
              "    .colab-df-container {\n",
              "      display:flex;\n",
              "      flex-wrap:wrap;\n",
              "      gap: 12px;\n",
              "    }\n",
              "\n",
              "    .colab-df-convert {\n",
              "      background-color: #E8F0FE;\n",
              "      border: none;\n",
              "      border-radius: 50%;\n",
              "      cursor: pointer;\n",
              "      display: none;\n",
              "      fill: #1967D2;\n",
              "      height: 32px;\n",
              "      padding: 0 0 0 0;\n",
              "      width: 32px;\n",
              "    }\n",
              "\n",
              "    .colab-df-convert:hover {\n",
              "      background-color: #E2EBFA;\n",
              "      box-shadow: 0px 1px 2px rgba(60, 64, 67, 0.3), 0px 1px 3px 1px rgba(60, 64, 67, 0.15);\n",
              "      fill: #174EA6;\n",
              "    }\n",
              "\n",
              "    [theme=dark] .colab-df-convert {\n",
              "      background-color: #3B4455;\n",
              "      fill: #D2E3FC;\n",
              "    }\n",
              "\n",
              "    [theme=dark] .colab-df-convert:hover {\n",
              "      background-color: #434B5C;\n",
              "      box-shadow: 0px 1px 3px 1px rgba(0, 0, 0, 0.15);\n",
              "      filter: drop-shadow(0px 1px 2px rgba(0, 0, 0, 0.3));\n",
              "      fill: #FFFFFF;\n",
              "    }\n",
              "  </style>\n",
              "\n",
              "      <script>\n",
              "        const buttonEl =\n",
              "          document.querySelector('#df-6b4cd1c0-1400-4051-8341-ab2f368cbedb button.colab-df-convert');\n",
              "        buttonEl.style.display =\n",
              "          google.colab.kernel.accessAllowed ? 'block' : 'none';\n",
              "\n",
              "        async function convertToInteractive(key) {\n",
              "          const element = document.querySelector('#df-6b4cd1c0-1400-4051-8341-ab2f368cbedb');\n",
              "          const dataTable =\n",
              "            await google.colab.kernel.invokeFunction('convertToInteractive',\n",
              "                                                     [key], {});\n",
              "          if (!dataTable) return;\n",
              "\n",
              "          const docLinkHtml = 'Like what you see? Visit the ' +\n",
              "            '<a target=\"_blank\" href=https://colab.research.google.com/notebooks/data_table.ipynb>data table notebook</a>'\n",
              "            + ' to learn more about interactive tables.';\n",
              "          element.innerHTML = '';\n",
              "          dataTable['output_type'] = 'display_data';\n",
              "          await google.colab.output.renderOutput(dataTable, element);\n",
              "          const docLink = document.createElement('div');\n",
              "          docLink.innerHTML = docLinkHtml;\n",
              "          element.appendChild(docLink);\n",
              "        }\n",
              "      </script>\n",
              "    </div>\n",
              "  </div>\n",
              "  "
            ]
          },
          "metadata": {},
          "execution_count": 33
        }
      ],
      "source": [
        "df.head()"
      ]
    },
    {
      "cell_type": "markdown",
      "metadata": {
        "id": "vOzboChywGGg"
      },
      "source": [
        "# **Feature Selection**"
      ]
    },
    {
      "cell_type": "code",
      "execution_count": null,
      "metadata": {
        "id": "P2nsm_UOv5VD"
      },
      "outputs": [],
      "source": [
        "x = np.array(df[[\"type\", \"amount\", \"oldbalanceOrg\", \"newbalanceOrig\"]])\n",
        "y = np.array(df[[\"isFraud\"]])"
      ]
    },
    {
      "cell_type": "markdown",
      "metadata": {
        "id": "pCkEkNS7wQah"
      },
      "source": [
        "# **Spliting the data**"
      ]
    },
    {
      "cell_type": "code",
      "execution_count": null,
      "metadata": {
        "id": "nTjUHwIcwK2T"
      },
      "outputs": [],
      "source": [
        "from sklearn.model_selection import train_test_split\n",
        "x_train , x_test , y_train , y_test = train_test_split(x,y,test_size = 0.10,random_state = 42)"
      ]
    },
    {
      "cell_type": "markdown",
      "metadata": {
        "id": "biKyguS1wYff"
      },
      "source": [
        "# **Traning a machine learning modles**"
      ]
    },
    {
      "cell_type": "markdown",
      "source": [
        "**Decision Tree Classifier**"
      ],
      "metadata": {
        "id": "gbefvzl7A4a-"
      }
    },
    {
      "cell_type": "code",
      "execution_count": null,
      "metadata": {
        "id": "yunYlmqMwX0H",
        "colab": {
          "base_uri": "https://localhost:8080/"
        },
        "outputId": "b1dfef3a-63ea-48be-c36f-c5977d08ef85"
      },
      "outputs": [
        {
          "output_type": "stream",
          "name": "stdout",
          "text": [
            "0.9997041885404887\n"
          ]
        }
      ],
      "source": [
        "\n",
        "from sklearn.tree import DecisionTreeClassifier\n",
        "Model = DecisionTreeClassifier()\n",
        "Model.fit(x_train,y_train)\n",
        "print(Model.score(x_test,y_test))"
      ]
    },
    {
      "cell_type": "markdown",
      "metadata": {
        "id": "Sx14KSC8wp4S"
      },
      "source": [
        " prediction"
      ]
    },
    {
      "cell_type": "code",
      "execution_count": null,
      "metadata": {
        "id": "0enIWfIBwhtL",
        "colab": {
          "base_uri": "https://localhost:8080/"
        },
        "outputId": "c29e9676-b70a-4276-8f3a-54bae8074f7c"
      },
      "outputs": [
        {
          "output_type": "execute_result",
          "data": {
            "text/plain": [
              "array([0, 0, 0, ..., 0, 0, 0])"
            ]
          },
          "metadata": {},
          "execution_count": 37
        }
      ],
      "source": [
        "pred = Model.predict(x_test)\n",
        "pred"
      ]
    },
    {
      "cell_type": "markdown",
      "source": [
        "Lets Visualize the tree"
      ],
      "metadata": {
        "id": "ikrs-efFBQp7"
      }
    },
    {
      "cell_type": "markdown",
      "metadata": {
        "id": "RbQjKLvlw7uY"
      },
      "source": [
        " **Logistic Regression**"
      ]
    },
    {
      "cell_type": "code",
      "execution_count": null,
      "metadata": {
        "id": "I8N5WlJ2w_8g",
        "colab": {
          "base_uri": "https://localhost:8080/"
        },
        "outputId": "267d0520-377e-4a48-f08f-18f615e6735b"
      },
      "outputs": [
        {
          "output_type": "stream",
          "name": "stderr",
          "text": [
            "/usr/local/lib/python3.7/dist-packages/sklearn/utils/validation.py:993: DataConversionWarning: A column-vector y was passed when a 1d array was expected. Please change the shape of y to (n_samples, ), for example using ravel().\n",
            "  y = column_or_1d(y, warn=True)\n"
          ]
        },
        {
          "output_type": "stream",
          "name": "stdout",
          "text": [
            "0.9997734608442983\n"
          ]
        }
      ],
      "source": [
        "from sklearn.linear_model import LogisticRegression\n",
        "lr_model = LogisticRegression()\n",
        "lr_model.fit(x_train, y_train)\n",
        "print(lr_model.score(x_test,y_test))"
      ]
    },
    {
      "cell_type": "code",
      "execution_count": null,
      "metadata": {
        "id": "hTqdv1mlxZsQ",
        "colab": {
          "base_uri": "https://localhost:8080/"
        },
        "outputId": "79292dbd-5a78-4259-d2a6-79f6cd48cccc"
      },
      "outputs": [
        {
          "output_type": "execute_result",
          "data": {
            "text/plain": [
              "array([0, 0, 0, ..., 0, 0, 0])"
            ]
          },
          "metadata": {},
          "execution_count": 39
        }
      ],
      "source": [
        "y_pred = lr_model.predict(x_test)\n",
        "y_pred"
      ]
    },
    {
      "cell_type": "markdown",
      "metadata": {
        "id": "VjtDaTVIxfcn"
      },
      "source": [
        " **K _Nearest Neighbours** "
      ]
    },
    {
      "cell_type": "code",
      "execution_count": null,
      "metadata": {
        "id": "H1I4N9O0xeJb",
        "colab": {
          "base_uri": "https://localhost:8080/"
        },
        "outputId": "a091b16d-ab26-4df6-e8df-a462f935d274"
      },
      "outputs": [
        {
          "output_type": "stream",
          "name": "stderr",
          "text": [
            "/usr/local/lib/python3.7/dist-packages/sklearn/neighbors/_classification.py:198: DataConversionWarning: A column-vector y was passed when a 1d array was expected. Please change the shape of y to (n_samples,), for example using ravel().\n",
            "  return self._fit(X, y)\n"
          ]
        },
        {
          "output_type": "stream",
          "name": "stdout",
          "text": [
            "0.9996985718672069\n"
          ]
        }
      ],
      "source": [
        "from sklearn.neighbors import KNeighborsClassifier\n",
        "knn = KNeighborsClassifier(n_neighbors=5)\n",
        "knn.fit(x_train, y_train)\n",
        "print(knn.score(x_test,y_test))"
      ]
    },
    {
      "cell_type": "code",
      "execution_count": null,
      "metadata": {
        "id": "lBszyQNNyatc",
        "colab": {
          "base_uri": "https://localhost:8080/"
        },
        "outputId": "cc08035e-a6b8-464c-888d-c120182a16f6"
      },
      "outputs": [
        {
          "output_type": "execute_result",
          "data": {
            "text/plain": [
              "array([0, 0, 0, ..., 0, 0, 0])"
            ]
          },
          "metadata": {},
          "execution_count": 41
        }
      ],
      "source": [
        "pred_y = knn.predict(x_test)\n",
        "pred_y"
      ]
    },
    {
      "cell_type": "markdown",
      "metadata": {
        "id": "wqS4nVkdyscX"
      },
      "source": [
        "**Naive Bayes**"
      ]
    },
    {
      "cell_type": "code",
      "execution_count": null,
      "metadata": {
        "id": "RnYjkzALyiYF",
        "colab": {
          "base_uri": "https://localhost:8080/"
        },
        "outputId": "cbda0146-6229-4d0d-a135-6dc55847e44d"
      },
      "outputs": [
        {
          "output_type": "stream",
          "name": "stderr",
          "text": [
            "/usr/local/lib/python3.7/dist-packages/sklearn/utils/validation.py:993: DataConversionWarning: A column-vector y was passed when a 1d array was expected. Please change the shape of y to (n_samples, ), for example using ravel().\n",
            "  y = column_or_1d(y, warn=True)\n"
          ]
        },
        {
          "output_type": "stream",
          "name": "stdout",
          "text": [
            "0.9951546831821824\n"
          ]
        }
      ],
      "source": [
        "from sklearn.naive_bayes import GaussianNB\n",
        "\n",
        "gnb =GaussianNB()\n",
        "\n",
        "model = gnb.fit(x_train, y_train)\n",
        "print(gnb.score(x_test,y_test))"
      ]
    },
    {
      "cell_type": "markdown",
      "source": [
        "Prediction"
      ],
      "metadata": {
        "id": "-IUPsljbrc5D"
      }
    },
    {
      "cell_type": "code",
      "execution_count": null,
      "metadata": {
        "id": "YAW3prDPzOTD",
        "colab": {
          "base_uri": "https://localhost:8080/"
        },
        "outputId": "159590d1-026a-4e7f-bbb4-9322f70b2267"
      },
      "outputs": [
        {
          "output_type": "execute_result",
          "data": {
            "text/plain": [
              "array([0, 0, 0, ..., 0, 0, 0])"
            ]
          },
          "metadata": {},
          "execution_count": 43
        }
      ],
      "source": [
        "prediction = gnb.predict(x_test)\n",
        "prediction"
      ]
    },
    {
      "cell_type": "markdown",
      "source": [
        "# **Model Evaluation**"
      ],
      "metadata": {
        "id": "z1E88zP1scy7"
      }
    },
    {
      "cell_type": "markdown",
      "source": [
        "## **Confussion matrix**"
      ],
      "metadata": {
        "id": "XbdeYjiFrfnr"
      }
    },
    {
      "cell_type": "markdown",
      "source": [
        "**confusion matrix of Decision tree**"
      ],
      "metadata": {
        "id": "K6G9M-YDGl7R"
      }
    },
    {
      "cell_type": "code",
      "source": [
        "import matplotlib.pyplot as plot\n",
        "from sklearn.metrics import plot_confusion_matrix\n",
        "plot_confusion_matrix(Model, x_test, y_test)  \n",
        "plot.show()"
      ],
      "metadata": {
        "colab": {
          "base_uri": "https://localhost:8080/",
          "height": 339
        },
        "id": "hp_lBYejFowp",
        "outputId": "a25306c5-1edf-4aad-ab27-3a1e6d45fcfa"
      },
      "execution_count": null,
      "outputs": [
        {
          "output_type": "stream",
          "name": "stderr",
          "text": [
            "/usr/local/lib/python3.7/dist-packages/sklearn/utils/deprecation.py:87: FutureWarning: Function plot_confusion_matrix is deprecated; Function `plot_confusion_matrix` is deprecated in 1.0 and will be removed in 1.2. Use one of the class methods: ConfusionMatrixDisplay.from_predictions or ConfusionMatrixDisplay.from_estimator.\n",
            "  warnings.warn(msg, category=FutureWarning)\n"
          ]
        },
        {
          "output_type": "display_data",
          "data": {
            "text/plain": [
              "<Figure size 432x288 with 2 Axes>"
            ],
            "image/png": "[encoded data removed]"
          },
          "metadata": {}
        }
      ]
    },
    {
      "cell_type": "markdown",
      "source": [
        "**confusion matrix of Logistic regression**"
      ],
      "metadata": {
        "id": "r4vomDotGsxp"
      }
    },
    {
      "cell_type": "code",
      "source": [
        "plot_confusion_matrix(lr_model, x_test, y_test)  \n",
        "plot.show()"
      ],
      "metadata": {
        "colab": {
          "base_uri": "https://localhost:8080/",
          "height": 339
        },
        "id": "4Jf6N8F1GOPa",
        "outputId": "679bfa1f-2cb6-48eb-8d45-76cf1dd6dc7e"
      },
      "execution_count": null,
      "outputs": [
        {
          "output_type": "stream",
          "name": "stderr",
          "text": [
            "/usr/local/lib/python3.7/dist-packages/sklearn/utils/deprecation.py:87: FutureWarning: Function plot_confusion_matrix is deprecated; Function `plot_confusion_matrix` is deprecated in 1.0 and will be removed in 1.2. Use one of the class methods: ConfusionMatrixDisplay.from_predictions or ConfusionMatrixDisplay.from_estimator.\n",
            "  warnings.warn(msg, category=FutureWarning)\n"
          ]
        },
        {
          "output_type": "display_data",
          "data": {
            "text/plain": [
              "<Figure size 432x288 with 2 Axes>"
            ],
            "image/png": "[encoded data removed]"
          },
          "metadata": {}
        }
      ]
    },
    {
      "cell_type": "markdown",
      "source": [
        "**confusion matrix of K_Nearest Neighbours**"
      ],
      "metadata": {
        "id": "NaH5UAiOGz7R"
      }
    },
    {
      "cell_type": "code",
      "source": [
        "plot_confusion_matrix(knn, x_test, y_test)  \n",
        "plot.show()"
      ],
      "metadata": {
        "colab": {
          "base_uri": "https://localhost:8080/",
          "height": 339
        },
        "id": "ZMxAe8l8GOGR",
        "outputId": "d62aef9c-a1ef-4437-836a-bc2ed4dc08ce"
      },
      "execution_count": null,
      "outputs": [
        {
          "output_type": "stream",
          "name": "stderr",
          "text": [
            "/usr/local/lib/python3.7/dist-packages/sklearn/utils/deprecation.py:87: FutureWarning: Function plot_confusion_matrix is deprecated; Function `plot_confusion_matrix` is deprecated in 1.0 and will be removed in 1.2. Use one of the class methods: ConfusionMatrixDisplay.from_predictions or ConfusionMatrixDisplay.from_estimator.\n",
            "  warnings.warn(msg, category=FutureWarning)\n"
          ]
        },
        {
          "output_type": "display_data",
          "data": {
            "text/plain": [
              "<Figure size 432x288 with 2 Axes>"
            ],
            "image/png": "[encoded data removed]"
          },
          "metadata": {}
        }
      ]
    },
    {
      "cell_type": "markdown",
      "source": [
        "**confusion matrix of naive bayes**"
      ],
      "metadata": {
        "id": "Aw16fJwtG-Zb"
      }
    },
    {
      "cell_type": "code",
      "source": [
        "plot_confusion_matrix(gnb, x_test, y_test)\n",
        "plot.show()"
      ],
      "metadata": {
        "colab": {
          "base_uri": "https://localhost:8080/",
          "height": 339
        },
        "id": "bHimQvdUGN9Z",
        "outputId": "0a4f375a-a14c-4d0a-bd9c-3bd21764c815"
      },
      "execution_count": null,
      "outputs": [
        {
          "output_type": "stream",
          "name": "stderr",
          "text": [
            "/usr/local/lib/python3.7/dist-packages/sklearn/utils/deprecation.py:87: FutureWarning: Function plot_confusion_matrix is deprecated; Function `plot_confusion_matrix` is deprecated in 1.0 and will be removed in 1.2. Use one of the class methods: ConfusionMatrixDisplay.from_predictions or ConfusionMatrixDisplay.from_estimator.\n",
            "  warnings.warn(msg, category=FutureWarning)\n"
          ]
        },
        {
          "output_type": "display_data",
          "data": {
            "text/plain": [
              "<Figure size 432x288 with 2 Axes>"
            ],
            "image/png": "[encoded data removed]"
          },
          "metadata": {}
        }
      ]
    },
    {
      "cell_type": "markdown",
      "source": [
        "## **Precision**"
      ],
      "metadata": {
        "id": "tCoOrCEarjnt"
      }
    },
    {
      "cell_type": "code",
      "source": [
        "# Importing the precision calculation library\n",
        "from sklearn.metrics import precision_score\n",
        "\n",
        "\n",
        "# Printing our results\n",
        "print('Logistic Regression precision:', precision_score(y_test, y_pred))\n",
        "print('Decision Tree precision:', precision_score(y_test, pred))\n",
        "print('K_Nearst Naighbours precision:', precision_score(y_test, pred_y))\n",
        "print('NaiveBayes precision:', precision_score(y_test, prediction))"
      ],
      "metadata": {
        "colab": {
          "base_uri": "https://localhost:8080/"
        },
        "id": "VZ8UGYY4o05d",
        "outputId": "ed4e1768-b306-41fc-f6f6-a5128d36566b"
      },
      "execution_count": null,
      "outputs": [
        {
          "output_type": "stream",
          "name": "stdout",
          "text": [
            "Logistic Regression precision: 0.7785977859778598\n",
            "Decision Tree precision: 0.8388746803069054\n",
            "K_Nearst Naighbours precision: 0.7924107142857143\n",
            "NaiveBayes precision: 0.026672496720594664\n"
          ]
        }
      ]
    },
    {
      "cell_type": "code",
      "source": [
        "print('Logistic Regression precision:', precision_score(y_test, y_pred, average=None))\n",
        "print('Decision Tree precision:', precision_score(y_test, pred, average=None))\n",
        "print('K_Nearst Naighbours precision:', precision_score(y_test, pred_y, average=None))\n",
        "print('NaiveBayes precision:', precision_score(y_test, prediction, average=None))"
      ],
      "metadata": {
        "colab": {
          "base_uri": "https://localhost:8080/"
        },
        "id": "qLJMhY4FEbdT",
        "outputId": "2d2bc8dc-d2d4-4990-cf93-c533a2547646"
      },
      "execution_count": null,
      "outputs": [
        {
          "output_type": "stream",
          "name": "stdout",
          "text": [
            "Logistic Regression precision: [0.99999813 0.77859779]\n",
            "Decision Tree precision: [0.99982201 0.83887468]\n",
            "K_Nearst Naighbours precision: [0.99987258 0.79241071]\n",
            "NaiveBayes precision: [0.99931934 0.0266725 ]\n"
          ]
        }
      ]
    },
    {
      "cell_type": "markdown",
      "source": [
        "## **Recall**"
      ],
      "metadata": {
        "id": "aQyoWN5ErnRr"
      }
    },
    {
      "cell_type": "code",
      "source": [
        "# Importing the recall calculation library\n",
        "from sklearn.metrics import recall_score\n",
        "\n",
        "\n",
        "# Printing our results\n",
        "print('Logistic Regression Recall:', recall_score(y_test, y_pred))\n",
        "print('Decision Tree Recall:', recall_score(y_test, pred))\n",
        "print('K_Nearst Naighbours Recall:', recall_score(y_test, pred_y))\n",
        "print('NaiveBayes Recall:', recall_score(y_test, prediction))"
      ],
      "metadata": {
        "colab": {
          "base_uri": "https://localhost:8080/"
        },
        "id": "OHFj3wfipOTs",
        "outputId": "8fdde726-eee8-439e-d636-eea21e1c81e1"
      },
      "execution_count": null,
      "outputs": [
        {
          "output_type": "stream",
          "name": "stdout",
          "text": [
            "Logistic Regression Recall: 0.9976359338061466\n",
            "Decision Tree Recall: 0.7754137115839244\n",
            "K_Nearst Naighbours Recall: 0.8392434988179669\n",
            "NaiveBayes Recall: 0.14420803782505912\n"
          ]
        }
      ]
    },
    {
      "cell_type": "code",
      "source": [
        "print('Logistic Regression Recall:', recall_score(y_test, y_pred, average=None))\n",
        "print('Decision Tree Recall:', recall_score(y_test, pred, average=None))\n",
        "print('K_Nearst Naighbours Recall:', recall_score(y_test, pred_y, average=None))\n",
        "print('NaiveBayes Recall:', recall_score(y_test, prediction, average=None))"
      ],
      "metadata": {
        "colab": {
          "base_uri": "https://localhost:8080/"
        },
        "id": "p4G3bR2WEm5y",
        "outputId": "02cd3a54-5d79-4cdf-ed83-a9a14d52d6df"
      },
      "execution_count": null,
      "outputs": [
        {
          "output_type": "stream",
          "name": "stdout",
          "text": [
            "Logistic Regression Recall: [0.99977516 0.99763593]\n",
            "Decision Tree Recall: [0.99988196 0.77541371]\n",
            "K_Nearst Naighbours Recall: [0.99982575 0.8392435 ]\n",
            "NaiveBayes Recall: [0.99582913 0.14420804]\n"
          ]
        }
      ]
    },
    {
      "cell_type": "markdown",
      "source": [
        "## **F1 Score**"
      ],
      "metadata": {
        "id": "X44fTZkQssJK"
      }
    },
    {
      "cell_type": "code",
      "source": [
        "from sklearn.metrics import f1_score\n",
        "#print macro\n",
        "print('Logistic Regression f1_score:',f1_score(y_test, y_pred, average = 'macro'))\n",
        "print('Decision Tree f1_score:', f1_score(y_test, pred, average = 'macro'))\n",
        "print('K_Nearst Naighbours f1_score:', f1_score(y_test, pred_y,average = 'macro'))\n",
        "print('NaiveBayes f1_score:', f1_score(y_test, prediction,average = 'macro'))"
      ],
      "metadata": {
        "colab": {
          "base_uri": "https://localhost:8080/"
        },
        "id": "PV3cvl0DpN_t",
        "outputId": "64a5a1ed-cd41-47e7-936f-43c4992c4c5d"
      },
      "execution_count": null,
      "outputs": [
        {
          "output_type": "stream",
          "name": "stdout",
          "text": [
            "Logistic Regression f1_score: 0.9372490134857425\n",
            "Decision Tree f1_score: 0.9028743936888142\n",
            "K_Nearst Naighbours f1_score: 0.9075020786037606\n",
            "NaiveBayes f1_score: 0.5212948150946722\n"
          ]
        }
      ]
    },
    {
      "cell_type": "code",
      "source": [
        "#print micro\n",
        "print('Logistic Regression f1_score:',f1_score(y_test, y_pred, average = 'micro'))\n",
        "print('Decision Tree f1_score:', f1_score(y_test, pred, average = 'micro'))\n",
        "print('K_Nearst Naighbours f1_score:', f1_score(y_test, pred_y,average = 'micro'))\n",
        "print('NaiveBayes f1_score:', f1_score(y_test, prediction,average = 'micro'))"
      ],
      "metadata": {
        "colab": {
          "base_uri": "https://localhost:8080/"
        },
        "id": "e9C5Vzu3vKXZ",
        "outputId": "1c28e779-fa52-4fbc-998d-5cc19635d50d"
      },
      "execution_count": null,
      "outputs": [
        {
          "output_type": "stream",
          "name": "stdout",
          "text": [
            "Logistic Regression f1_score: 0.9997734608442983\n",
            "Decision Tree f1_score: 0.9997041885404887\n",
            "K_Nearst Naighbours f1_score: 0.9996985718672069\n",
            "NaiveBayes f1_score: 0.9951546831821824\n"
          ]
        }
      ]
    }
  ],
  "metadata": {
    "colab": {
      "name": "Online Payment Fraud Detection.ipynb",
      "provenance": [],
      "collapsed_sections": []
    },
    "kernelspec": {
      "display_name": "Python 3",
      "name": "python3"
    },
    "language_info": {
      "name": "python"
    }
  },
  "nbformat": 4,
  "nbformat_minor": 0
}